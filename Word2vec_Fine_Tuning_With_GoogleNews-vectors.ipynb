{
 "cells": [
  {
   "cell_type": "code",
   "execution_count": 1,
   "metadata": {},
   "outputs": [
    {
     "name": "stderr",
     "output_type": "stream",
     "text": [
      "C:\\Users\\alber\\Anaconda3\\lib\\site-packages\\gensim\\utils.py:1212: UserWarning: detected Windows; aliasing chunkize to chunkize_serial\n",
      "  warnings.warn(\"detected Windows; aliasing chunkize to chunkize_serial\")\n"
     ]
    }
   ],
   "source": [
    "import gensim\n",
    "from gensim.models import Word2Vec \n",
    "from gensim.models import KeyedVectors\n",
    "from time import time  # To time our operations\n",
    "import pandas as pd\n",
    "from nltk.tokenize import RegexpTokenizer"
   ]
  },
  {
   "cell_type": "code",
   "execution_count": 3,
   "metadata": {},
   "outputs": [],
   "source": [
    "import logging  # Setting up the loggings to monitor gensim\n",
    "logging.basicConfig(format=\"%(levelname)s - %(asctime)s: %(message)s\", datefmt= '%H:%M:%S', level=logging.INFO)"
   ]
  },
  {
   "cell_type": "code",
   "execution_count": 4,
   "metadata": {},
   "outputs": [],
   "source": [
    "pd.set_option('max_colwidth', 1000)\n",
    "pd.options.display.max_rows = 500\n",
    "# Read file\n",
    "df = pd.read_pickle('df_orig.pkl')"
   ]
  },
  {
   "cell_type": "code",
   "execution_count": 5,
   "metadata": {},
   "outputs": [
    {
     "name": "stdout",
     "output_type": "stream",
     "text": [
      "(66806, 2)\n"
     ]
    },
    {
     "data": {
      "text/html": [
       "<div>\n",
       "<style scoped>\n",
       "    .dataframe tbody tr th:only-of-type {\n",
       "        vertical-align: middle;\n",
       "    }\n",
       "\n",
       "    .dataframe tbody tr th {\n",
       "        vertical-align: top;\n",
       "    }\n",
       "\n",
       "    .dataframe thead th {\n",
       "        text-align: right;\n",
       "    }\n",
       "</style>\n",
       "<table border=\"1\" class=\"dataframe\">\n",
       "  <thead>\n",
       "    <tr style=\"text-align: right;\">\n",
       "      <th></th>\n",
       "      <th>Doc_Id</th>\n",
       "      <th>consumer_complaint_narrative</th>\n",
       "    </tr>\n",
       "  </thead>\n",
       "  <tbody>\n",
       "    <tr>\n",
       "      <th>190126</th>\n",
       "      <td>0</td>\n",
       "      <td>XXXX has claimed I owe them {$27.00} for XXXX years despite the PROOF of PAYMENT I sent them : canceled check and their ownPAID INVOICE for {$27.00}! \\nThey continue to insist I owe them and collection agencies are after me. \\nHow can I stop this harassment for a bill I already paid four years ago? \\n</td>\n",
       "    </tr>\n",
       "    <tr>\n",
       "      <th>190135</th>\n",
       "      <td>1</td>\n",
       "      <td>Due to inconsistencies in the amount owed that I was told by M &amp; T Bank and the amount that was reported to the credit reporting agencies, I was advised to write a good will letter in order to address the issue and request the negative entry be removed from my credit report all together. I had a vehicle that was stolen and it was declared a total loss by insurance company. The insurance company and the GAP insurancw companypaid the outstanding balance of the loan, but I was told by M &amp; T Bank that there was still a balance due on the loan. In good faith, without having received any proof as to why there was still a balance, I made a partial payment towards the remaining debt. I then sent the goodwill letter still offering to pay the remainder of the debt, but in exchange for the removal of the negative entry on my credit report. At one point, in XXXX 2015, per my credit monitoring agency, it showed a delinquent balance of {$0.00}, but when I checked my credit report again on XXXX X...</td>\n",
       "    </tr>\n",
       "    <tr>\n",
       "      <th>190155</th>\n",
       "      <td>2</td>\n",
       "      <td>In XX/XX/XXXX my wages that I earned at my job decreased by almost half, by XX/XX/XXXX I knew I was in trouble with my home loan. I began contacting WFB whom my home loan is with, for assitance and options. \\nIn early XX/XX/XXXX I began the Loan Modification process with Wells Fargo Bank. I was told that they would not assist me with anything financial on my home loan until I fell 90 days behind, though at the time I started to inquire for assistance from WFB I was only a few weeks behind. So, I began working with a program called XXXX. They approved me for a variety of assistence and reached out to Wells Fargo Bank to determine what they could assist with. Wells Fargo then turned down the assistance from XXXX and finally offered to do a Loan Modification for me. The outcome was totally unknow about what I would be offered in the end by WFB for assistance. Wells Fargo lost my paperwork twice during this process, so it took 2 months from the time I started to the time my paperwork b...</td>\n",
       "    </tr>\n",
       "    <tr>\n",
       "      <th>190207</th>\n",
       "      <td>3</td>\n",
       "      <td>I have an open and current mortgage with Chase Bank # XXXX. Chase is reporting the loan payments to XXXX but XXXX is surpressing the information and reporting the loan as Discharged in BK. This mortgage was reaffirmed in a Chapter XXXX BK discharged dated XXXX/XXXX/2013. Chase keeps referring to BK Law for Chapter XXXX and we keep providing documentation for Chapter XXXX, and the account should be open and current with all the payments \\n</td>\n",
       "    </tr>\n",
       "    <tr>\n",
       "      <th>190208</th>\n",
       "      <td>4</td>\n",
       "      <td>XXXX was submitted XX/XX/XXXX. At the time I submitted this complaint, I had dealt with Rushmore Mortgage directly endeavoring to get them to stop the continuous daily calls I was receiving trying to collect on a mortgage for which I was not responsible due to bankruptcy. They denied having knowledge of the bankruptcy, even though I had spoken with them about it repeatedly and had written them repeatedly referencing the bankruptcy requesting them to cease the pursuit, they continued to do so. When they were unable to trick me into paying, force me into paying in retaliation they placed reported to my credit bureaus a past due mortgage amount that had been discharged in Federal Court. On XX/XX/XXXX Rushmore responded the referenced complaint indicating that they would remove the reporting from my bureau, yet it is still there now in XX/XX/XXXX. I would like them to remove it immediately and send me a letter indicating that it should not have been there in the first place and they ar...</td>\n",
       "    </tr>\n",
       "  </tbody>\n",
       "</table>\n",
       "</div>"
      ],
      "text/plain": [
       "        Doc_Id  \\\n",
       "190126       0   \n",
       "190135       1   \n",
       "190155       2   \n",
       "190207       3   \n",
       "190208       4   \n",
       "\n",
       "                                                                                                                                                                                                                                                                                                                                                                                                                                                                                                                                                                                                                                                                                                                                                                                                                                                                                                                                                                                                                   consumer_complaint_narrative  \n",
       "190126                                                                                                                                                                                                                                                                                                                                                                                                                                                                                                                                                                                                                                                                                                                           XXXX has claimed I owe them {$27.00} for XXXX years despite the PROOF of PAYMENT I sent them : canceled check and their ownPAID INVOICE for {$27.00}! \\nThey continue to insist I owe them and collection agencies are after me. \\nHow can I stop this harassment for a bill I already paid four years ago? \\n  \n",
       "190135  Due to inconsistencies in the amount owed that I was told by M & T Bank and the amount that was reported to the credit reporting agencies, I was advised to write a good will letter in order to address the issue and request the negative entry be removed from my credit report all together. I had a vehicle that was stolen and it was declared a total loss by insurance company. The insurance company and the GAP insurancw companypaid the outstanding balance of the loan, but I was told by M & T Bank that there was still a balance due on the loan. In good faith, without having received any proof as to why there was still a balance, I made a partial payment towards the remaining debt. I then sent the goodwill letter still offering to pay the remainder of the debt, but in exchange for the removal of the negative entry on my credit report. At one point, in XXXX 2015, per my credit monitoring agency, it showed a delinquent balance of {$0.00}, but when I checked my credit report again on XXXX X...  \n",
       "190155  In XX/XX/XXXX my wages that I earned at my job decreased by almost half, by XX/XX/XXXX I knew I was in trouble with my home loan. I began contacting WFB whom my home loan is with, for assitance and options. \\nIn early XX/XX/XXXX I began the Loan Modification process with Wells Fargo Bank. I was told that they would not assist me with anything financial on my home loan until I fell 90 days behind, though at the time I started to inquire for assistance from WFB I was only a few weeks behind. So, I began working with a program called XXXX. They approved me for a variety of assistence and reached out to Wells Fargo Bank to determine what they could assist with. Wells Fargo then turned down the assistance from XXXX and finally offered to do a Loan Modification for me. The outcome was totally unknow about what I would be offered in the end by WFB for assistance. Wells Fargo lost my paperwork twice during this process, so it took 2 months from the time I started to the time my paperwork b...  \n",
       "190207                                                                                                                                                                                                                                                                                                                                                                                                                                                                                                                                                                               I have an open and current mortgage with Chase Bank # XXXX. Chase is reporting the loan payments to XXXX but XXXX is surpressing the information and reporting the loan as Discharged in BK. This mortgage was reaffirmed in a Chapter XXXX BK discharged dated XXXX/XXXX/2013. Chase keeps referring to BK Law for Chapter XXXX and we keep providing documentation for Chapter XXXX, and the account should be open and current with all the payments \\n  \n",
       "190208  XXXX was submitted XX/XX/XXXX. At the time I submitted this complaint, I had dealt with Rushmore Mortgage directly endeavoring to get them to stop the continuous daily calls I was receiving trying to collect on a mortgage for which I was not responsible due to bankruptcy. They denied having knowledge of the bankruptcy, even though I had spoken with them about it repeatedly and had written them repeatedly referencing the bankruptcy requesting them to cease the pursuit, they continued to do so. When they were unable to trick me into paying, force me into paying in retaliation they placed reported to my credit bureaus a past due mortgage amount that had been discharged in Federal Court. On XX/XX/XXXX Rushmore responded the referenced complaint indicating that they would remove the reporting from my bureau, yet it is still there now in XX/XX/XXXX. I would like them to remove it immediately and send me a letter indicating that it should not have been there in the first place and they ar...  "
      ]
     },
     "execution_count": 5,
     "metadata": {},
     "output_type": "execute_result"
    }
   ],
   "source": [
    "print(df.shape)\n",
    "df.head()"
   ]
  },
  {
   "cell_type": "code",
   "execution_count": 6,
   "metadata": {},
   "outputs": [],
   "source": [
    "df=df.reset_index(drop=True)"
   ]
  },
  {
   "cell_type": "code",
   "execution_count": 7,
   "metadata": {},
   "outputs": [
    {
     "data": {
      "text/html": [
       "<div>\n",
       "<style scoped>\n",
       "    .dataframe tbody tr th:only-of-type {\n",
       "        vertical-align: middle;\n",
       "    }\n",
       "\n",
       "    .dataframe tbody tr th {\n",
       "        vertical-align: top;\n",
       "    }\n",
       "\n",
       "    .dataframe thead th {\n",
       "        text-align: right;\n",
       "    }\n",
       "</style>\n",
       "<table border=\"1\" class=\"dataframe\">\n",
       "  <thead>\n",
       "    <tr style=\"text-align: right;\">\n",
       "      <th></th>\n",
       "      <th>Doc_Id</th>\n",
       "      <th>consumer_complaint_narrative</th>\n",
       "    </tr>\n",
       "  </thead>\n",
       "  <tbody>\n",
       "    <tr>\n",
       "      <th>0</th>\n",
       "      <td>0</td>\n",
       "      <td>XXXX has claimed I owe them {$27.00} for XXXX years despite the PROOF of PAYMENT I sent them : canceled check and their ownPAID INVOICE for {$27.00}! \\nThey continue to insist I owe them and collection agencies are after me. \\nHow can I stop this harassment for a bill I already paid four years ago? \\n</td>\n",
       "    </tr>\n",
       "    <tr>\n",
       "      <th>1</th>\n",
       "      <td>1</td>\n",
       "      <td>Due to inconsistencies in the amount owed that I was told by M &amp; T Bank and the amount that was reported to the credit reporting agencies, I was advised to write a good will letter in order to address the issue and request the negative entry be removed from my credit report all together. I had a vehicle that was stolen and it was declared a total loss by insurance company. The insurance company and the GAP insurancw companypaid the outstanding balance of the loan, but I was told by M &amp; T Bank that there was still a balance due on the loan. In good faith, without having received any proof as to why there was still a balance, I made a partial payment towards the remaining debt. I then sent the goodwill letter still offering to pay the remainder of the debt, but in exchange for the removal of the negative entry on my credit report. At one point, in XXXX 2015, per my credit monitoring agency, it showed a delinquent balance of {$0.00}, but when I checked my credit report again on XXXX X...</td>\n",
       "    </tr>\n",
       "    <tr>\n",
       "      <th>2</th>\n",
       "      <td>2</td>\n",
       "      <td>In XX/XX/XXXX my wages that I earned at my job decreased by almost half, by XX/XX/XXXX I knew I was in trouble with my home loan. I began contacting WFB whom my home loan is with, for assitance and options. \\nIn early XX/XX/XXXX I began the Loan Modification process with Wells Fargo Bank. I was told that they would not assist me with anything financial on my home loan until I fell 90 days behind, though at the time I started to inquire for assistance from WFB I was only a few weeks behind. So, I began working with a program called XXXX. They approved me for a variety of assistence and reached out to Wells Fargo Bank to determine what they could assist with. Wells Fargo then turned down the assistance from XXXX and finally offered to do a Loan Modification for me. The outcome was totally unknow about what I would be offered in the end by WFB for assistance. Wells Fargo lost my paperwork twice during this process, so it took 2 months from the time I started to the time my paperwork b...</td>\n",
       "    </tr>\n",
       "    <tr>\n",
       "      <th>3</th>\n",
       "      <td>3</td>\n",
       "      <td>I have an open and current mortgage with Chase Bank # XXXX. Chase is reporting the loan payments to XXXX but XXXX is surpressing the information and reporting the loan as Discharged in BK. This mortgage was reaffirmed in a Chapter XXXX BK discharged dated XXXX/XXXX/2013. Chase keeps referring to BK Law for Chapter XXXX and we keep providing documentation for Chapter XXXX, and the account should be open and current with all the payments \\n</td>\n",
       "    </tr>\n",
       "    <tr>\n",
       "      <th>4</th>\n",
       "      <td>4</td>\n",
       "      <td>XXXX was submitted XX/XX/XXXX. At the time I submitted this complaint, I had dealt with Rushmore Mortgage directly endeavoring to get them to stop the continuous daily calls I was receiving trying to collect on a mortgage for which I was not responsible due to bankruptcy. They denied having knowledge of the bankruptcy, even though I had spoken with them about it repeatedly and had written them repeatedly referencing the bankruptcy requesting them to cease the pursuit, they continued to do so. When they were unable to trick me into paying, force me into paying in retaliation they placed reported to my credit bureaus a past due mortgage amount that had been discharged in Federal Court. On XX/XX/XXXX Rushmore responded the referenced complaint indicating that they would remove the reporting from my bureau, yet it is still there now in XX/XX/XXXX. I would like them to remove it immediately and send me a letter indicating that it should not have been there in the first place and they ar...</td>\n",
       "    </tr>\n",
       "  </tbody>\n",
       "</table>\n",
       "</div>"
      ],
      "text/plain": [
       "   Doc_Id  \\\n",
       "0       0   \n",
       "1       1   \n",
       "2       2   \n",
       "3       3   \n",
       "4       4   \n",
       "\n",
       "                                                                                                                                                                                                                                                                                                                                                                                                                                                                                                                                                                                                                                                                                                                                                                                                                                                                                                                                                                                                              consumer_complaint_narrative  \n",
       "0                                                                                                                                                                                                                                                                                                                                                                                                                                                                                                                                                                                                                                                                                                                           XXXX has claimed I owe them {$27.00} for XXXX years despite the PROOF of PAYMENT I sent them : canceled check and their ownPAID INVOICE for {$27.00}! \\nThey continue to insist I owe them and collection agencies are after me. \\nHow can I stop this harassment for a bill I already paid four years ago? \\n  \n",
       "1  Due to inconsistencies in the amount owed that I was told by M & T Bank and the amount that was reported to the credit reporting agencies, I was advised to write a good will letter in order to address the issue and request the negative entry be removed from my credit report all together. I had a vehicle that was stolen and it was declared a total loss by insurance company. The insurance company and the GAP insurancw companypaid the outstanding balance of the loan, but I was told by M & T Bank that there was still a balance due on the loan. In good faith, without having received any proof as to why there was still a balance, I made a partial payment towards the remaining debt. I then sent the goodwill letter still offering to pay the remainder of the debt, but in exchange for the removal of the negative entry on my credit report. At one point, in XXXX 2015, per my credit monitoring agency, it showed a delinquent balance of {$0.00}, but when I checked my credit report again on XXXX X...  \n",
       "2  In XX/XX/XXXX my wages that I earned at my job decreased by almost half, by XX/XX/XXXX I knew I was in trouble with my home loan. I began contacting WFB whom my home loan is with, for assitance and options. \\nIn early XX/XX/XXXX I began the Loan Modification process with Wells Fargo Bank. I was told that they would not assist me with anything financial on my home loan until I fell 90 days behind, though at the time I started to inquire for assistance from WFB I was only a few weeks behind. So, I began working with a program called XXXX. They approved me for a variety of assistence and reached out to Wells Fargo Bank to determine what they could assist with. Wells Fargo then turned down the assistance from XXXX and finally offered to do a Loan Modification for me. The outcome was totally unknow about what I would be offered in the end by WFB for assistance. Wells Fargo lost my paperwork twice during this process, so it took 2 months from the time I started to the time my paperwork b...  \n",
       "3                                                                                                                                                                                                                                                                                                                                                                                                                                                                                                                                                                               I have an open and current mortgage with Chase Bank # XXXX. Chase is reporting the loan payments to XXXX but XXXX is surpressing the information and reporting the loan as Discharged in BK. This mortgage was reaffirmed in a Chapter XXXX BK discharged dated XXXX/XXXX/2013. Chase keeps referring to BK Law for Chapter XXXX and we keep providing documentation for Chapter XXXX, and the account should be open and current with all the payments \\n  \n",
       "4  XXXX was submitted XX/XX/XXXX. At the time I submitted this complaint, I had dealt with Rushmore Mortgage directly endeavoring to get them to stop the continuous daily calls I was receiving trying to collect on a mortgage for which I was not responsible due to bankruptcy. They denied having knowledge of the bankruptcy, even though I had spoken with them about it repeatedly and had written them repeatedly referencing the bankruptcy requesting them to cease the pursuit, they continued to do so. When they were unable to trick me into paying, force me into paying in retaliation they placed reported to my credit bureaus a past due mortgage amount that had been discharged in Federal Court. On XX/XX/XXXX Rushmore responded the referenced complaint indicating that they would remove the reporting from my bureau, yet it is still there now in XX/XX/XXXX. I would like them to remove it immediately and send me a letter indicating that it should not have been there in the first place and they ar...  "
      ]
     },
     "execution_count": 7,
     "metadata": {},
     "output_type": "execute_result"
    }
   ],
   "source": [
    "df.head()"
   ]
  },
  {
   "cell_type": "code",
   "execution_count": 13,
   "metadata": {},
   "outputs": [
    {
     "data": {
      "text/plain": [
       "(66806, 3)"
      ]
     },
     "execution_count": 13,
     "metadata": {},
     "output_type": "execute_result"
    }
   ],
   "source": [
    "# df_clean=df[['consumer_complaint_narrative']]\n",
    "df['clean'] = df['consumer_complaint_narrative'].str.replace('X', '')\n",
    "df['clean'] = df['clean'].str.replace('//', '')\n",
    "\n",
    "df = df.dropna().drop_duplicates()\n",
    "df.shape"
   ]
  },
  {
   "cell_type": "code",
   "execution_count": 14,
   "metadata": {},
   "outputs": [
    {
     "data": {
      "text/html": [
       "<div>\n",
       "<style scoped>\n",
       "    .dataframe tbody tr th:only-of-type {\n",
       "        vertical-align: middle;\n",
       "    }\n",
       "\n",
       "    .dataframe tbody tr th {\n",
       "        vertical-align: top;\n",
       "    }\n",
       "\n",
       "    .dataframe thead th {\n",
       "        text-align: right;\n",
       "    }\n",
       "</style>\n",
       "<table border=\"1\" class=\"dataframe\">\n",
       "  <thead>\n",
       "    <tr style=\"text-align: right;\">\n",
       "      <th></th>\n",
       "      <th>clean</th>\n",
       "    </tr>\n",
       "  </thead>\n",
       "  <tbody>\n",
       "    <tr>\n",
       "      <th>0</th>\n",
       "      <td>has claimed I owe them {$27.00} for  years despite the PROOF of PAYMENT I sent them : canceled check and their ownPAID INVOICE for {$27.00}! \\nThey continue to insist I owe them and collection agencies are after me. \\nHow can I stop this harassment for a bill I already paid four years ago? \\n</td>\n",
       "    </tr>\n",
       "    <tr>\n",
       "      <th>1</th>\n",
       "      <td>Due to inconsistencies in the amount owed that I was told by M &amp; T Bank and the amount that was reported to the credit reporting agencies, I was advised to write a good will letter in order to address the issue and request the negative entry be removed from my credit report all together. I had a vehicle that was stolen and it was declared a total loss by insurance company. The insurance company and the GAP insurancw companypaid the outstanding balance of the loan, but I was told by M &amp; T Bank that there was still a balance due on the loan. In good faith, without having received any proof as to why there was still a balance, I made a partial payment towards the remaining debt. I then sent the goodwill letter still offering to pay the remainder of the debt, but in exchange for the removal of the negative entry on my credit report. At one point, in  2015, per my credit monitoring agency, it showed a delinquent balance of {$0.00}, but when I checked my credit report again on   2015, th...</td>\n",
       "    </tr>\n",
       "    <tr>\n",
       "      <th>2</th>\n",
       "      <td>In  my wages that I earned at my job decreased by almost half, by  I knew I was in trouble with my home loan. I began contacting WFB whom my home loan is with, for assitance and options. \\nIn early  I began the Loan Modification process with Wells Fargo Bank. I was told that they would not assist me with anything financial on my home loan until I fell 90 days behind, though at the time I started to inquire for assistance from WFB I was only a few weeks behind. So, I began working with a program called . They approved me for a variety of assistence and reached out to Wells Fargo Bank to determine what they could assist with. Wells Fargo then turned down the assistance from  and finally offered to do a Loan Modification for me. The outcome was totally unknow about what I would be offered in the end by WFB for assistance. Wells Fargo lost my paperwork twice during this process, so it took 2 months from the time I started to the time my paperwork began to be processed for some kind of ...</td>\n",
       "    </tr>\n",
       "    <tr>\n",
       "      <th>3</th>\n",
       "      <td>I have an open and current mortgage with Chase Bank # . Chase is reporting the loan payments to  but  is surpressing the information and reporting the loan as Discharged in BK. This mortgage was reaffirmed in a Chapter  BK discharged dated 2013. Chase keeps referring to BK Law for Chapter  and we keep providing documentation for Chapter , and the account should be open and current with all the payments \\n</td>\n",
       "    </tr>\n",
       "    <tr>\n",
       "      <th>4</th>\n",
       "      <td>was submitted . At the time I submitted this complaint, I had dealt with Rushmore Mortgage directly endeavoring to get them to stop the continuous daily calls I was receiving trying to collect on a mortgage for which I was not responsible due to bankruptcy. They denied having knowledge of the bankruptcy, even though I had spoken with them about it repeatedly and had written them repeatedly referencing the bankruptcy requesting them to cease the pursuit, they continued to do so. When they were unable to trick me into paying, force me into paying in retaliation they placed reported to my credit bureaus a past due mortgage amount that had been discharged in Federal Court. On  Rushmore responded the referenced complaint indicating that they would remove the reporting from my bureau, yet it is still there now in . I would like them to remove it immediately and send me a letter indicating that it should not have been there in the first place and they are going to remove it from all my b...</td>\n",
       "    </tr>\n",
       "  </tbody>\n",
       "</table>\n",
       "</div>"
      ],
      "text/plain": [
       "                                                                                                                                                                                                                                                                                                                                                                                                                                                                                                                                                                                                                                                                                                                                                                                                                                                                                                                                                                                                                                     clean\n",
       "0                                                                                                                                                                                                                                                                                                                                                                                                                                                                                                                                                                                                                                                                                                                                    has claimed I owe them {$27.00} for  years despite the PROOF of PAYMENT I sent them : canceled check and their ownPAID INVOICE for {$27.00}! \\nThey continue to insist I owe them and collection agencies are after me. \\nHow can I stop this harassment for a bill I already paid four years ago? \\n\n",
       "1  Due to inconsistencies in the amount owed that I was told by M & T Bank and the amount that was reported to the credit reporting agencies, I was advised to write a good will letter in order to address the issue and request the negative entry be removed from my credit report all together. I had a vehicle that was stolen and it was declared a total loss by insurance company. The insurance company and the GAP insurancw companypaid the outstanding balance of the loan, but I was told by M & T Bank that there was still a balance due on the loan. In good faith, without having received any proof as to why there was still a balance, I made a partial payment towards the remaining debt. I then sent the goodwill letter still offering to pay the remainder of the debt, but in exchange for the removal of the negative entry on my credit report. At one point, in  2015, per my credit monitoring agency, it showed a delinquent balance of {$0.00}, but when I checked my credit report again on   2015, th...\n",
       "2  In  my wages that I earned at my job decreased by almost half, by  I knew I was in trouble with my home loan. I began contacting WFB whom my home loan is with, for assitance and options. \\nIn early  I began the Loan Modification process with Wells Fargo Bank. I was told that they would not assist me with anything financial on my home loan until I fell 90 days behind, though at the time I started to inquire for assistance from WFB I was only a few weeks behind. So, I began working with a program called . They approved me for a variety of assistence and reached out to Wells Fargo Bank to determine what they could assist with. Wells Fargo then turned down the assistance from  and finally offered to do a Loan Modification for me. The outcome was totally unknow about what I would be offered in the end by WFB for assistance. Wells Fargo lost my paperwork twice during this process, so it took 2 months from the time I started to the time my paperwork began to be processed for some kind of ...\n",
       "3                                                                                                                                                                                                                                                                                                                                                                                                                                                                                                                                                                                                                 I have an open and current mortgage with Chase Bank # . Chase is reporting the loan payments to  but  is surpressing the information and reporting the loan as Discharged in BK. This mortgage was reaffirmed in a Chapter  BK discharged dated 2013. Chase keeps referring to BK Law for Chapter  and we keep providing documentation for Chapter , and the account should be open and current with all the payments \\n\n",
       "4   was submitted . At the time I submitted this complaint, I had dealt with Rushmore Mortgage directly endeavoring to get them to stop the continuous daily calls I was receiving trying to collect on a mortgage for which I was not responsible due to bankruptcy. They denied having knowledge of the bankruptcy, even though I had spoken with them about it repeatedly and had written them repeatedly referencing the bankruptcy requesting them to cease the pursuit, they continued to do so. When they were unable to trick me into paying, force me into paying in retaliation they placed reported to my credit bureaus a past due mortgage amount that had been discharged in Federal Court. On  Rushmore responded the referenced complaint indicating that they would remove the reporting from my bureau, yet it is still there now in . I would like them to remove it immediately and send me a letter indicating that it should not have been there in the first place and they are going to remove it from all my b..."
      ]
     },
     "execution_count": 14,
     "metadata": {},
     "output_type": "execute_result"
    }
   ],
   "source": [
    "df_clean= df[['clean']]\n",
    "df_clean.head()"
   ]
  },
  {
   "cell_type": "code",
   "execution_count": 15,
   "metadata": {},
   "outputs": [],
   "source": [
    "# grab posts\n",
    "sentences = df_clean.clean.astype('str').tolist()"
   ]
  },
  {
   "cell_type": "code",
   "execution_count": 16,
   "metadata": {},
   "outputs": [
    {
     "data": {
      "text/plain": [
       "'Due to inconsistencies in the amount owed that I was told by M & T Bank and the amount that was reported to the credit reporting agencies, I was advised to write a good will letter in order to address the issue and request the negative entry be removed from my credit report all together. I had a vehicle that was stolen and it was declared a total loss by insurance company. The insurance company and the GAP insurancw companypaid the outstanding balance of the loan, but I was told by M & T Bank that there was still a balance due on the loan. In good faith, without having received any proof as to why there was still a balance, I made a partial payment towards the remaining debt. I then sent the goodwill letter still offering to pay the remainder of the debt, but in exchange for the removal of the negative entry on my credit report. At one point, in  2015, per my credit monitoring agency, it showed a delinquent balance of {$0.00}, but when I checked my credit report again on   2015, there was a delinquent balance of {$1400.00}. The monies from the GAP insurance and my insurance company has been paid, M & T Bank says that I still owe {$620.00}, of which {$210.00} has already been paid. I contacted M & T Bank via return receipt mail, but I have not been given the courtesy of a response yet. \\n'"
      ]
     },
     "execution_count": 16,
     "metadata": {},
     "output_type": "execute_result"
    }
   ],
   "source": [
    "sentences[1]"
   ]
  },
  {
   "cell_type": "code",
   "execution_count": 17,
   "metadata": {},
   "outputs": [],
   "source": [
    "# tokenize\n",
    "tokenizer = RegexpTokenizer(r'\\w+')\n",
    "sentences_tokenized = [w.lower() for w in sentences]\n",
    "sentences_tokenized = [tokenizer.tokenize(i) for i in sentences_tokenized]"
   ]
  },
  {
   "cell_type": "code",
   "execution_count": 18,
   "metadata": {},
   "outputs": [
    {
     "data": {
      "text/plain": [
       "['due',\n",
       " 'to',\n",
       " 'inconsistencies',\n",
       " 'in',\n",
       " 'the',\n",
       " 'amount',\n",
       " 'owed',\n",
       " 'that',\n",
       " 'i',\n",
       " 'was',\n",
       " 'told',\n",
       " 'by',\n",
       " 'm',\n",
       " 't',\n",
       " 'bank',\n",
       " 'and',\n",
       " 'the',\n",
       " 'amount',\n",
       " 'that',\n",
       " 'was',\n",
       " 'reported',\n",
       " 'to',\n",
       " 'the',\n",
       " 'credit',\n",
       " 'reporting',\n",
       " 'agencies',\n",
       " 'i',\n",
       " 'was',\n",
       " 'advised',\n",
       " 'to',\n",
       " 'write',\n",
       " 'a',\n",
       " 'good',\n",
       " 'will',\n",
       " 'letter',\n",
       " 'in',\n",
       " 'order',\n",
       " 'to',\n",
       " 'address',\n",
       " 'the',\n",
       " 'issue',\n",
       " 'and',\n",
       " 'request',\n",
       " 'the',\n",
       " 'negative',\n",
       " 'entry',\n",
       " 'be',\n",
       " 'removed',\n",
       " 'from',\n",
       " 'my',\n",
       " 'credit',\n",
       " 'report',\n",
       " 'all',\n",
       " 'together',\n",
       " 'i',\n",
       " 'had',\n",
       " 'a',\n",
       " 'vehicle',\n",
       " 'that',\n",
       " 'was',\n",
       " 'stolen',\n",
       " 'and',\n",
       " 'it',\n",
       " 'was',\n",
       " 'declared',\n",
       " 'a',\n",
       " 'total',\n",
       " 'loss',\n",
       " 'by',\n",
       " 'insurance',\n",
       " 'company',\n",
       " 'the',\n",
       " 'insurance',\n",
       " 'company',\n",
       " 'and',\n",
       " 'the',\n",
       " 'gap',\n",
       " 'insurancw',\n",
       " 'companypaid',\n",
       " 'the',\n",
       " 'outstanding',\n",
       " 'balance',\n",
       " 'of',\n",
       " 'the',\n",
       " 'loan',\n",
       " 'but',\n",
       " 'i',\n",
       " 'was',\n",
       " 'told',\n",
       " 'by',\n",
       " 'm',\n",
       " 't',\n",
       " 'bank',\n",
       " 'that',\n",
       " 'there',\n",
       " 'was',\n",
       " 'still',\n",
       " 'a',\n",
       " 'balance',\n",
       " 'due',\n",
       " 'on',\n",
       " 'the',\n",
       " 'loan',\n",
       " 'in',\n",
       " 'good',\n",
       " 'faith',\n",
       " 'without',\n",
       " 'having',\n",
       " 'received',\n",
       " 'any',\n",
       " 'proof',\n",
       " 'as',\n",
       " 'to',\n",
       " 'why',\n",
       " 'there',\n",
       " 'was',\n",
       " 'still',\n",
       " 'a',\n",
       " 'balance',\n",
       " 'i',\n",
       " 'made',\n",
       " 'a',\n",
       " 'partial',\n",
       " 'payment',\n",
       " 'towards',\n",
       " 'the',\n",
       " 'remaining',\n",
       " 'debt',\n",
       " 'i',\n",
       " 'then',\n",
       " 'sent',\n",
       " 'the',\n",
       " 'goodwill',\n",
       " 'letter',\n",
       " 'still',\n",
       " 'offering',\n",
       " 'to',\n",
       " 'pay',\n",
       " 'the',\n",
       " 'remainder',\n",
       " 'of',\n",
       " 'the',\n",
       " 'debt',\n",
       " 'but',\n",
       " 'in',\n",
       " 'exchange',\n",
       " 'for',\n",
       " 'the',\n",
       " 'removal',\n",
       " 'of',\n",
       " 'the',\n",
       " 'negative',\n",
       " 'entry',\n",
       " 'on',\n",
       " 'my',\n",
       " 'credit',\n",
       " 'report',\n",
       " 'at',\n",
       " 'one',\n",
       " 'point',\n",
       " 'in',\n",
       " '2015',\n",
       " 'per',\n",
       " 'my',\n",
       " 'credit',\n",
       " 'monitoring',\n",
       " 'agency',\n",
       " 'it',\n",
       " 'showed',\n",
       " 'a',\n",
       " 'delinquent',\n",
       " 'balance',\n",
       " 'of',\n",
       " '0',\n",
       " '00',\n",
       " 'but',\n",
       " 'when',\n",
       " 'i',\n",
       " 'checked',\n",
       " 'my',\n",
       " 'credit',\n",
       " 'report',\n",
       " 'again',\n",
       " 'on',\n",
       " '2015',\n",
       " 'there',\n",
       " 'was',\n",
       " 'a',\n",
       " 'delinquent',\n",
       " 'balance',\n",
       " 'of',\n",
       " '1400',\n",
       " '00',\n",
       " 'the',\n",
       " 'monies',\n",
       " 'from',\n",
       " 'the',\n",
       " 'gap',\n",
       " 'insurance',\n",
       " 'and',\n",
       " 'my',\n",
       " 'insurance',\n",
       " 'company',\n",
       " 'has',\n",
       " 'been',\n",
       " 'paid',\n",
       " 'm',\n",
       " 't',\n",
       " 'bank',\n",
       " 'says',\n",
       " 'that',\n",
       " 'i',\n",
       " 'still',\n",
       " 'owe',\n",
       " '620',\n",
       " '00',\n",
       " 'of',\n",
       " 'which',\n",
       " '210',\n",
       " '00',\n",
       " 'has',\n",
       " 'already',\n",
       " 'been',\n",
       " 'paid',\n",
       " 'i',\n",
       " 'contacted',\n",
       " 'm',\n",
       " 't',\n",
       " 'bank',\n",
       " 'via',\n",
       " 'return',\n",
       " 'receipt',\n",
       " 'mail',\n",
       " 'but',\n",
       " 'i',\n",
       " 'have',\n",
       " 'not',\n",
       " 'been',\n",
       " 'given',\n",
       " 'the',\n",
       " 'courtesy',\n",
       " 'of',\n",
       " 'a',\n",
       " 'response',\n",
       " 'yet']"
      ]
     },
     "execution_count": 18,
     "metadata": {},
     "output_type": "execute_result"
    }
   ],
   "source": [
    "sentences_tokenized[1]"
   ]
  },
  {
   "cell_type": "markdown",
   "metadata": {},
   "source": [
    "# Fine Tuning a Word2vec Model"
   ]
  },
  {
   "cell_type": "code",
   "execution_count": 19,
   "metadata": {
    "scrolled": true
   },
   "outputs": [
    {
     "name": "stderr",
     "output_type": "stream",
     "text": [
      "INFO - 03:24:52: collecting all words and their counts\n",
      "INFO - 03:24:52: PROGRESS: at sentence #0, processed 0 words, keeping 0 word types\n",
      "INFO - 03:24:53: PROGRESS: at sentence #10000, processed 1814001 words, keeping 20810 word types\n",
      "INFO - 03:24:53: PROGRESS: at sentence #20000, processed 3578866 words, keeping 29022 word types\n",
      "INFO - 03:24:53: PROGRESS: at sentence #30000, processed 5368879 words, keeping 35682 word types\n",
      "INFO - 03:24:54: PROGRESS: at sentence #40000, processed 7188444 words, keeping 41618 word types\n",
      "INFO - 03:24:54: PROGRESS: at sentence #50000, processed 9005637 words, keeping 46531 word types\n",
      "INFO - 03:24:54: PROGRESS: at sentence #60000, processed 10792194 words, keeping 50154 word types\n",
      "INFO - 03:24:55: collected 52463 word types from a corpus of 12055320 raw words and 66806 sentences\n",
      "INFO - 03:24:55: Loading a fresh vocabulary\n",
      "INFO - 03:24:55: effective_min_count=1 retains 52463 unique words (100% of original 52463, drops 0)\n",
      "INFO - 03:24:55: effective_min_count=1 leaves 12055320 word corpus (100% of original 12055320, drops 0)\n",
      "INFO - 03:24:55: deleting the raw counts dictionary of 52463 items\n",
      "INFO - 03:24:55: sample=0.001 downsamples 57 most-common words\n",
      "INFO - 03:24:55: downsampling leaves estimated 8629120 word corpus (71.6% of prior 12055320)\n",
      "INFO - 03:24:55: estimated required memory for 52463 words and 300 dimensions: 152142700 bytes\n",
      "INFO - 03:24:55: resetting layer weights\n"
     ]
    }
   ],
   "source": [
    "# update existing embedding w/ kaggle data\n",
    "model_2 = Word2Vec(size=300, min_count=1)\n",
    "model_2.build_vocab(sentences_tokenized)\n",
    "total_examples = model_2.corpus_count"
   ]
  },
  {
   "cell_type": "code",
   "execution_count": 20,
   "metadata": {},
   "outputs": [
    {
     "data": {
      "text/plain": [
       "66806"
      ]
     },
     "execution_count": 20,
     "metadata": {},
     "output_type": "execute_result"
    }
   ],
   "source": [
    "total_examples"
   ]
  },
  {
   "cell_type": "code",
   "execution_count": 21,
   "metadata": {},
   "outputs": [
    {
     "name": "stderr",
     "output_type": "stream",
     "text": [
      "INFO - 03:25:09: loading projection weights from C:/Users/alber/Downloads/GoogleNews-vectors-negative300.bin\n",
      "INFO - 03:25:45: merged 28538 vectors into (52463, 300) matrix from C:/Users/alber/Downloads/GoogleNews-vectors-negative300.bin\n",
      "INFO - 03:25:45: training model with 3 workers on 52463 vocabulary and 300 features, using sg=0 hs=0 sample=0.001 negative=5 window=5\n",
      "INFO - 03:25:46: EPOCH 1 - PROGRESS: at 6.65% examples, 581348 words/s, in_qsize 5, out_qsize 0\n",
      "INFO - 03:25:47: EPOCH 1 - PROGRESS: at 13.58% examples, 588660 words/s, in_qsize 5, out_qsize 0\n",
      "INFO - 03:25:48: EPOCH 1 - PROGRESS: at 20.81% examples, 591316 words/s, in_qsize 5, out_qsize 0\n",
      "INFO - 03:25:49: EPOCH 1 - PROGRESS: at 27.98% examples, 592522 words/s, in_qsize 5, out_qsize 0\n",
      "INFO - 03:25:50: EPOCH 1 - PROGRESS: at 35.26% examples, 592817 words/s, in_qsize 5, out_qsize 0\n",
      "INFO - 03:25:51: EPOCH 1 - PROGRESS: at 42.10% examples, 591957 words/s, in_qsize 5, out_qsize 0\n",
      "INFO - 03:25:52: EPOCH 1 - PROGRESS: at 49.01% examples, 592700 words/s, in_qsize 5, out_qsize 0\n",
      "INFO - 03:25:53: EPOCH 1 - PROGRESS: at 55.54% examples, 589347 words/s, in_qsize 5, out_qsize 0\n",
      "INFO - 03:25:54: EPOCH 1 - PROGRESS: at 61.98% examples, 585452 words/s, in_qsize 5, out_qsize 0\n",
      "INFO - 03:25:55: EPOCH 1 - PROGRESS: at 69.09% examples, 586952 words/s, in_qsize 5, out_qsize 0\n",
      "INFO - 03:25:56: EPOCH 1 - PROGRESS: at 75.87% examples, 588551 words/s, in_qsize 5, out_qsize 0\n",
      "INFO - 03:25:57: EPOCH 1 - PROGRESS: at 82.82% examples, 589666 words/s, in_qsize 5, out_qsize 0\n",
      "INFO - 03:25:58: EPOCH 1 - PROGRESS: at 89.82% examples, 588677 words/s, in_qsize 5, out_qsize 0\n",
      "INFO - 03:25:59: EPOCH 1 - PROGRESS: at 96.19% examples, 587517 words/s, in_qsize 5, out_qsize 0\n",
      "INFO - 03:26:00: worker thread finished; awaiting finish of 2 more threads\n",
      "INFO - 03:26:00: worker thread finished; awaiting finish of 1 more threads\n",
      "INFO - 03:26:00: worker thread finished; awaiting finish of 0 more threads\n",
      "INFO - 03:26:00: EPOCH - 1 : training on 12055320 raw words (8629459 effective words) took 14.7s, 587319 effective words/s\n",
      "INFO - 03:26:01: EPOCH 2 - PROGRESS: at 6.47% examples, 566702 words/s, in_qsize 5, out_qsize 0\n",
      "INFO - 03:26:02: EPOCH 2 - PROGRESS: at 13.40% examples, 579544 words/s, in_qsize 5, out_qsize 0\n",
      "INFO - 03:26:03: EPOCH 2 - PROGRESS: at 20.57% examples, 585001 words/s, in_qsize 5, out_qsize 0\n",
      "INFO - 03:26:04: EPOCH 2 - PROGRESS: at 27.46% examples, 584725 words/s, in_qsize 5, out_qsize 0\n",
      "INFO - 03:26:05: EPOCH 2 - PROGRESS: at 34.65% examples, 585536 words/s, in_qsize 5, out_qsize 0\n",
      "INFO - 03:26:06: EPOCH 2 - PROGRESS: at 41.72% examples, 587962 words/s, in_qsize 5, out_qsize 0\n",
      "INFO - 03:26:07: EPOCH 2 - PROGRESS: at 48.58% examples, 589695 words/s, in_qsize 5, out_qsize 0\n",
      "INFO - 03:26:08: EPOCH 2 - PROGRESS: at 55.54% examples, 591600 words/s, in_qsize 5, out_qsize 0\n",
      "INFO - 03:26:09: EPOCH 2 - PROGRESS: at 62.56% examples, 592874 words/s, in_qsize 5, out_qsize 0\n",
      "INFO - 03:26:10: EPOCH 2 - PROGRESS: at 69.63% examples, 594277 words/s, in_qsize 5, out_qsize 0\n",
      "INFO - 03:26:11: EPOCH 2 - PROGRESS: at 76.09% examples, 592716 words/s, in_qsize 5, out_qsize 0\n",
      "INFO - 03:26:12: EPOCH 2 - PROGRESS: at 83.10% examples, 593404 words/s, in_qsize 5, out_qsize 0\n",
      "INFO - 03:26:13: EPOCH 2 - PROGRESS: at 90.29% examples, 593819 words/s, in_qsize 5, out_qsize 0\n",
      "INFO - 03:26:14: EPOCH 2 - PROGRESS: at 96.91% examples, 593746 words/s, in_qsize 5, out_qsize 0\n",
      "INFO - 03:26:14: worker thread finished; awaiting finish of 2 more threads\n",
      "INFO - 03:26:14: worker thread finished; awaiting finish of 1 more threads\n",
      "INFO - 03:26:14: worker thread finished; awaiting finish of 0 more threads\n",
      "INFO - 03:26:14: EPOCH - 2 : training on 12055320 raw words (8628114 effective words) took 14.6s, 592266 effective words/s\n",
      "INFO - 03:26:15: EPOCH 3 - PROGRESS: at 6.38% examples, 559738 words/s, in_qsize 5, out_qsize 0\n",
      "INFO - 03:26:16: EPOCH 3 - PROGRESS: at 13.40% examples, 579990 words/s, in_qsize 5, out_qsize 0\n",
      "INFO - 03:26:17: EPOCH 3 - PROGRESS: at 20.65% examples, 586348 words/s, in_qsize 5, out_qsize 0\n",
      "INFO - 03:26:18: EPOCH 3 - PROGRESS: at 27.98% examples, 591809 words/s, in_qsize 5, out_qsize 0\n",
      "INFO - 03:26:19: EPOCH 3 - PROGRESS: at 35.34% examples, 595016 words/s, in_qsize 5, out_qsize 0\n",
      "INFO - 03:26:20: EPOCH 3 - PROGRESS: at 42.10% examples, 592530 words/s, in_qsize 5, out_qsize 0\n",
      "INFO - 03:26:21: EPOCH 3 - PROGRESS: at 48.77% examples, 590626 words/s, in_qsize 5, out_qsize 0\n",
      "INFO - 03:26:22: EPOCH 3 - PROGRESS: at 55.70% examples, 592384 words/s, in_qsize 5, out_qsize 0\n",
      "INFO - 03:26:23: EPOCH 3 - PROGRESS: at 62.84% examples, 593498 words/s, in_qsize 5, out_qsize 0\n",
      "INFO - 03:26:24: EPOCH 3 - PROGRESS: at 69.90% examples, 594561 words/s, in_qsize 5, out_qsize 0\n",
      "INFO - 03:26:25: EPOCH 3 - PROGRESS: at 76.69% examples, 595613 words/s, in_qsize 5, out_qsize 0\n",
      "INFO - 03:26:26: EPOCH 3 - PROGRESS: at 83.47% examples, 594959 words/s, in_qsize 5, out_qsize 0\n",
      "INFO - 03:26:27: EPOCH 3 - PROGRESS: at 90.73% examples, 595712 words/s, in_qsize 5, out_qsize 0\n",
      "INFO - 03:26:28: EPOCH 3 - PROGRESS: at 97.41% examples, 595646 words/s, in_qsize 5, out_qsize 0\n",
      "INFO - 03:26:29: worker thread finished; awaiting finish of 2 more threads\n",
      "INFO - 03:26:29: worker thread finished; awaiting finish of 1 more threads\n",
      "INFO - 03:26:29: worker thread finished; awaiting finish of 0 more threads\n",
      "INFO - 03:26:29: EPOCH - 3 : training on 12055320 raw words (8629847 effective words) took 14.5s, 595752 effective words/s\n",
      "INFO - 03:26:30: EPOCH 4 - PROGRESS: at 6.22% examples, 539615 words/s, in_qsize 5, out_qsize 0\n",
      "INFO - 03:26:31: EPOCH 4 - PROGRESS: at 12.33% examples, 531247 words/s, in_qsize 5, out_qsize 0\n",
      "INFO - 03:26:32: EPOCH 4 - PROGRESS: at 18.87% examples, 534823 words/s, in_qsize 5, out_qsize 0\n",
      "INFO - 03:26:33: EPOCH 4 - PROGRESS: at 25.55% examples, 541171 words/s, in_qsize 5, out_qsize 0\n",
      "INFO - 03:26:34: EPOCH 4 - PROGRESS: at 32.61% examples, 546705 words/s, in_qsize 5, out_qsize 0\n",
      "INFO - 03:26:35: EPOCH 4 - PROGRESS: at 39.15% examples, 548410 words/s, in_qsize 5, out_qsize 0\n",
      "INFO - 03:26:36: EPOCH 4 - PROGRESS: at 45.15% examples, 544727 words/s, in_qsize 5, out_qsize 0\n",
      "INFO - 03:26:37: EPOCH 4 - PROGRESS: at 51.86% examples, 549881 words/s, in_qsize 5, out_qsize 0\n",
      "INFO - 03:26:38: EPOCH 4 - PROGRESS: at 58.67% examples, 554281 words/s, in_qsize 5, out_qsize 0\n",
      "INFO - 03:26:39: EPOCH 4 - PROGRESS: at 65.16% examples, 553826 words/s, in_qsize 5, out_qsize 0\n",
      "INFO - 03:26:40: EPOCH 4 - PROGRESS: at 71.63% examples, 554017 words/s, in_qsize 5, out_qsize 0\n",
      "INFO - 03:26:41: EPOCH 4 - PROGRESS: at 78.12% examples, 555912 words/s, in_qsize 5, out_qsize 0\n",
      "INFO - 03:26:42: EPOCH 4 - PROGRESS: at 84.85% examples, 557658 words/s, in_qsize 5, out_qsize 0\n",
      "INFO - 03:26:43: EPOCH 4 - PROGRESS: at 91.95% examples, 560318 words/s, in_qsize 5, out_qsize 0\n",
      "INFO - 03:26:44: EPOCH 4 - PROGRESS: at 98.62% examples, 562591 words/s, in_qsize 5, out_qsize 0\n",
      "INFO - 03:26:44: worker thread finished; awaiting finish of 2 more threads\n",
      "INFO - 03:26:44: worker thread finished; awaiting finish of 1 more threads\n",
      "INFO - 03:26:44: worker thread finished; awaiting finish of 0 more threads\n",
      "INFO - 03:26:44: EPOCH - 4 : training on 12055320 raw words (8628110 effective words) took 15.3s, 563013 effective words/s\n",
      "INFO - 03:26:45: EPOCH 5 - PROGRESS: at 6.38% examples, 560806 words/s, in_qsize 4, out_qsize 1\n",
      "INFO - 03:26:46: EPOCH 5 - PROGRESS: at 13.15% examples, 566701 words/s, in_qsize 5, out_qsize 0\n",
      "INFO - 03:26:47: EPOCH 5 - PROGRESS: at 20.22% examples, 574138 words/s, in_qsize 5, out_qsize 0\n",
      "INFO - 03:26:48: EPOCH 5 - PROGRESS: at 27.39% examples, 578356 words/s, in_qsize 5, out_qsize 0\n",
      "INFO - 03:26:49: EPOCH 5 - PROGRESS: at 34.56% examples, 580579 words/s, in_qsize 5, out_qsize 0\n",
      "INFO - 03:26:50: EPOCH 5 - PROGRESS: at 41.40% examples, 580095 words/s, in_qsize 5, out_qsize 0\n",
      "INFO - 03:26:51: EPOCH 5 - PROGRESS: at 48.25% examples, 582414 words/s, in_qsize 5, out_qsize 0\n",
      "INFO - 03:26:52: EPOCH 5 - PROGRESS: at 54.87% examples, 581431 words/s, in_qsize 5, out_qsize 0\n",
      "INFO - 03:26:53: EPOCH 5 - PROGRESS: at 61.83% examples, 582805 words/s, in_qsize 5, out_qsize 0\n",
      "INFO - 03:26:54: EPOCH 5 - PROGRESS: at 68.67% examples, 583171 words/s, in_qsize 5, out_qsize 0\n",
      "INFO - 03:26:55: EPOCH 5 - PROGRESS: at 74.72% examples, 579192 words/s, in_qsize 5, out_qsize 0\n",
      "INFO - 03:26:56: EPOCH 5 - PROGRESS: at 81.13% examples, 577096 words/s, in_qsize 5, out_qsize 0\n",
      "INFO - 03:26:57: EPOCH 5 - PROGRESS: at 88.08% examples, 578202 words/s, in_qsize 5, out_qsize 0\n",
      "INFO - 03:26:58: EPOCH 5 - PROGRESS: at 94.97% examples, 579696 words/s, in_qsize 5, out_qsize 0\n",
      "INFO - 03:26:59: worker thread finished; awaiting finish of 2 more threads\n",
      "INFO - 03:26:59: worker thread finished; awaiting finish of 1 more threads\n",
      "INFO - 03:26:59: worker thread finished; awaiting finish of 0 more threads\n",
      "INFO - 03:26:59: EPOCH - 5 : training on 12055320 raw words (8627726 effective words) took 14.9s, 580636 effective words/s\n",
      "INFO - 03:26:59: training on a 60276600 raw words (43143256 effective words) took 74.0s, 583322 effective words/s\n"
     ]
    },
    {
     "data": {
      "text/plain": [
       "(43143256, 60276600)"
      ]
     },
     "execution_count": 21,
     "metadata": {},
     "output_type": "execute_result"
    }
   ],
   "source": [
    "model_2.intersect_word2vec_format(\"C:/Users/alber/Downloads/GoogleNews-vectors-negative300.bin\", binary=True, lockf=1.0)\n",
    "model_2.train(sentences_tokenized, total_examples=total_examples, epochs=5)"
   ]
  },
  {
   "cell_type": "code",
   "execution_count": 22,
   "metadata": {},
   "outputs": [
    {
     "name": "stderr",
     "output_type": "stream",
     "text": [
      "INFO - 03:27:06: saving Word2Vec object under cfpb_word2vec_gensim.model, separately None\n",
      "INFO - 03:27:06: storing np array 'vectors' to cfpb_word2vec_gensim.model.wv.vectors.npy\n",
      "INFO - 03:27:07: not storing attribute vectors_norm\n",
      "INFO - 03:27:07: storing np array 'syn1neg' to cfpb_word2vec_gensim.model.trainables.syn1neg.npy\n",
      "INFO - 03:27:07: not storing attribute cum_table\n",
      "INFO - 03:27:07: saved cfpb_word2vec_gensim.model\n",
      "INFO - 03:27:07: storing 52463x300 projection weights into cfpb_word2vec.model\n"
     ]
    }
   ],
   "source": [
    "# gensim flavored word2vec model (smaller)\n",
    "model_2.save(\"cfpb_word2vec_gensim.model\")\n",
    "\n",
    "# generic word2vec model\n",
    "model_2.wv.save_word2vec_format(\"cfpb_word2vec.model\")"
   ]
  },
  {
   "cell_type": "code",
   "execution_count": 23,
   "metadata": {
    "scrolled": true
   },
   "outputs": [
    {
     "name": "stderr",
     "output_type": "stream",
     "text": [
      "INFO - 03:27:25: precomputing L2-norms of word weight vectors\n",
      "C:\\Users\\alber\\Anaconda3\\lib\\site-packages\\gensim\\matutils.py:737: FutureWarning: Conversion of the second argument of issubdtype from `int` to `np.signedinteger` is deprecated. In future, it will be treated as `np.int32 == np.dtype(int).type`.\n",
      "  if np.issubdtype(vec.dtype, np.int):\n"
     ]
    },
    {
     "data": {
      "text/plain": [
       "[('forclosure', 0.7982729077339172),\n",
       " ('foreclosures', 0.5736782550811768),\n",
       " ('foreclosing', 0.551282525062561),\n",
       " ('foreclose', 0.5356031656265259),\n",
       " ('default', 0.5129393935203552),\n",
       " ('eviction', 0.5032855868339539),\n",
       " ('litigation', 0.49408984184265137),\n",
       " ('foreclosed', 0.480776309967041),\n",
       " ('sale', 0.47467759251594543),\n",
       " ('sheriff', 0.4598076343536377),\n",
       " ('evictions', 0.4582887291908264),\n",
       " ('beganforeclosure', 0.43819740414619446),\n",
       " ('shortsale', 0.43249696493148804),\n",
       " ('trustee', 0.43070441484451294),\n",
       " ('modification', 0.42758411169052124),\n",
       " ('motion', 0.4255492091178894),\n",
       " ('forclose', 0.4247853755950928),\n",
       " ('auction', 0.41876736283302307),\n",
       " ('forecloser', 0.4185132384300232),\n",
       " ('preforeclosure', 0.41293734312057495)]"
      ]
     },
     "execution_count": 23,
     "metadata": {},
     "output_type": "execute_result"
    }
   ],
   "source": [
    "model_2.wv.most_similar(positive=[\"foreclosure\"],topn=20)"
   ]
  },
  {
   "cell_type": "code",
   "execution_count": 24,
   "metadata": {},
   "outputs": [
    {
     "name": "stderr",
     "output_type": "stream",
     "text": [
      "C:\\Users\\alber\\Anaconda3\\lib\\site-packages\\gensim\\matutils.py:737: FutureWarning: Conversion of the second argument of issubdtype from `int` to `np.signedinteger` is deprecated. In future, it will be treated as `np.int32 == np.dtype(int).type`.\n",
      "  if np.issubdtype(vec.dtype, np.int):\n"
     ]
    },
    {
     "data": {
      "text/plain": [
       "[('modification', 0.8594411015510559),\n",
       " ('remodification', 0.6719957590103149),\n",
       " ('modifications', 0.6642035841941833),\n",
       " ('modifcation', 0.6107051372528076),\n",
       " ('hamp', 0.5910806059837341),\n",
       " ('modified', 0.5837326049804688),\n",
       " ('harp', 0.5516812801361084),\n",
       " ('modifying', 0.5238307118415833),\n",
       " ('forbearance', 0.5112001895904541),\n",
       " ('usda', 0.5107383728027344),\n",
       " ('modify', 0.49947190284729004),\n",
       " ('rma', 0.49884259700775146),\n",
       " ('mods', 0.49727949500083923),\n",
       " ('application', 0.4930369257926941),\n",
       " ('conventional', 0.4770098328590393),\n",
       " ('hafa', 0.4716576933860779),\n",
       " ('deferment', 0.469094842672348),\n",
       " ('helpqualify', 0.4599950611591339),\n",
       " ('fha', 0.4582020342350006),\n",
       " ('recast', 0.45801037549972534)]"
      ]
     },
     "execution_count": 24,
     "metadata": {},
     "output_type": "execute_result"
    }
   ],
   "source": [
    "model_2.wv.most_similar(positive=[\"mod\"],topn=20)"
   ]
  },
  {
   "cell_type": "code",
   "execution_count": 25,
   "metadata": {
    "scrolled": true
   },
   "outputs": [
    {
     "name": "stderr",
     "output_type": "stream",
     "text": [
      "C:\\Users\\alber\\Anaconda3\\lib\\site-packages\\gensim\\matutils.py:737: FutureWarning: Conversion of the second argument of issubdtype from `int` to `np.signedinteger` is deprecated. In future, it will be treated as `np.int32 == np.dtype(int).type`.\n",
      "  if np.issubdtype(vec.dtype, np.int):\n"
     ]
    },
    {
     "data": {
      "text/plain": [
       "[('late', 0.6248523592948914),\n",
       " ('deliquent', 0.5992037653923035),\n",
       " ('default', 0.5291082859039307),\n",
       " ('delinquency', 0.5227220058441162),\n",
       " ('overdue', 0.5220245122909546),\n",
       " ('behind', 0.48745405673980713),\n",
       " ('arrears', 0.4582290053367615),\n",
       " ('past', 0.43209806084632874),\n",
       " ('unpaid', 0.4244455397129059),\n",
       " ('defaulted', 0.41280093789100647),\n",
       " ('negative', 0.4043262302875519),\n",
       " ('current', 0.39643949270248413),\n",
       " ('inaccurately', 0.3957720398902893),\n",
       " ('missed', 0.3933451771736145),\n",
       " ('delinquencies', 0.3923983573913574),\n",
       " ('chargeoff', 0.38231396675109863),\n",
       " ('nonpayment', 0.38187724351882935),\n",
       " ('overdrawn', 0.3806421756744385),\n",
       " ('closed', 0.3701050877571106),\n",
       " ('inactive', 0.3670114576816559)]"
      ]
     },
     "execution_count": 25,
     "metadata": {},
     "output_type": "execute_result"
    }
   ],
   "source": [
    "model_2.wv.most_similar(positive=[\"delinquent\"],topn=20)"
   ]
  },
  {
   "cell_type": "code",
   "execution_count": 26,
   "metadata": {},
   "outputs": [
    {
     "name": "stderr",
     "output_type": "stream",
     "text": [
      "C:\\Users\\alber\\Anaconda3\\lib\\site-packages\\gensim\\matutils.py:737: FutureWarning: Conversion of the second argument of issubdtype from `int` to `np.signedinteger` is deprecated. In future, it will be treated as `np.int32 == np.dtype(int).type`.\n",
      "  if np.issubdtype(vec.dtype, np.int):\n"
     ]
    },
    {
     "data": {
      "text/plain": [
       "[('dispute', 0.6710425615310669),\n",
       " ('complaints', 0.6335346698760986),\n",
       " ('requests', 0.5534314513206482),\n",
       " ('investigations', 0.5092790722846985),\n",
       " ('inaccuracies', 0.4727935194969177),\n",
       " ('complaint', 0.47060421109199524),\n",
       " ('compliant', 0.4435334801673889),\n",
       " ('disagreements', 0.4419194757938385),\n",
       " ('discussions', 0.44064366817474365),\n",
       " ('discrepancies', 0.4365085959434509),\n",
       " ('inquiries', 0.43578869104385376),\n",
       " ('lawsuits', 0.4332212805747986),\n",
       " ('grievances', 0.4309554696083069),\n",
       " ('correspondences', 0.4277231991291046),\n",
       " ('disput', 0.41459810733795166),\n",
       " ('disputed', 0.4087992012500763),\n",
       " ('inquires', 0.4034891128540039),\n",
       " ('correspondence', 0.4019061326980591),\n",
       " ('communications', 0.40144070982933044),\n",
       " ('entries', 0.4009189009666443)]"
      ]
     },
     "execution_count": 26,
     "metadata": {},
     "output_type": "execute_result"
    }
   ],
   "source": [
    "model_2.wv.most_similar(positive=[\"disputes\"],topn=20)"
   ]
  },
  {
   "cell_type": "code",
   "execution_count": 27,
   "metadata": {},
   "outputs": [
    {
     "data": {
      "text/plain": [
       "52463"
      ]
     },
     "execution_count": 27,
     "metadata": {},
     "output_type": "execute_result"
    }
   ],
   "source": [
    "len(model_2.wv.vocab)"
   ]
  },
  {
   "cell_type": "code",
   "execution_count": 28,
   "metadata": {},
   "outputs": [
    {
     "name": "stdout",
     "output_type": "stream",
     "text": [
      "[[ 1.5232882e-01 -5.4447430e-01 -1.7120501e-01 ... -1.0316514e+00\n",
      "   1.0673243e+00  3.4376833e-01]\n",
      " [ 3.2326165e-01  6.4587188e-01 -5.0333804e-01 ...  2.3226910e+00\n",
      "   4.8779762e-01  2.5906691e-01]\n",
      " [ 6.3489598e-01 -7.0964795e-01 -6.4527944e-02 ...  3.7633318e-01\n",
      "  -5.0703156e-01  2.7654967e-01]\n",
      " ...\n",
      " [ 1.2745025e-02 -1.6773384e-02 -1.4938287e-04 ... -1.3545465e-02\n",
      "  -9.3904706e-03 -2.9300526e-02]\n",
      " [ 1.4688429e-02 -1.7455233e-02  3.8136836e-04 ... -5.4283887e-03\n",
      "   8.9500155e-03 -2.3482623e-02]\n",
      " [ 3.0503512e-04 -1.5265445e-02  8.6061331e-03 ... -3.2664768e-02\n",
      "  -4.0915638e-02 -2.3534561e-02]]\n"
     ]
    }
   ],
   "source": [
    "print(model_2.wv.vectors)"
   ]
  },
  {
   "cell_type": "code",
   "execution_count": 30,
   "metadata": {},
   "outputs": [
    {
     "name": "stderr",
     "output_type": "stream",
     "text": [
      "C:\\Users\\alber\\Anaconda3\\lib\\site-packages\\gensim\\matutils.py:737: FutureWarning: Conversion of the second argument of issubdtype from `int` to `np.signedinteger` is deprecated. In future, it will be treated as `np.int32 == np.dtype(int).type`.\n",
      "  if np.issubdtype(vec.dtype, np.int):\n"
     ]
    },
    {
     "data": {
      "text/plain": [
       "[('michigan', 0.7848071455955505),\n",
       " ('alabama', 0.7613809704780579),\n",
       " ('virginia', 0.7533582448959351),\n",
       " ('indiana', 0.7522750496864319),\n",
       " ('georgia', 0.7475205659866333),\n",
       " ('nj', 0.7438889741897583),\n",
       " ('minnesota', 0.7418457865715027),\n",
       " ('massachusetts', 0.7392698526382446),\n",
       " ('nc', 0.7315444946289062),\n",
       " ('maryland', 0.7303110361099243),\n",
       " ('texas', 0.7258538007736206),\n",
       " ('florida', 0.7253085970878601),\n",
       " ('utah', 0.7245694398880005),\n",
       " ('colorado', 0.7242205142974854),\n",
       " ('arizona', 0.7234482169151306),\n",
       " ('illinois', 0.7203905582427979),\n",
       " ('pennsylvania', 0.7190428376197815),\n",
       " ('missouri', 0.7177852392196655),\n",
       " ('ny', 0.7140328884124756),\n",
       " ('oregon', 0.7042700052261353)]"
      ]
     },
     "execution_count": 30,
     "metadata": {},
     "output_type": "execute_result"
    }
   ],
   "source": [
    "\n",
    "model_2.wv.most_similar(positive=[\"ohio\"],topn=20)"
   ]
  },
  {
   "cell_type": "code",
   "execution_count": 2,
   "metadata": {},
   "outputs": [],
   "source": [
    "model_3=Word2Vec.load(\"cfpb_word2vec_gensim.model\")"
   ]
  },
  {
   "cell_type": "code",
   "execution_count": 34,
   "metadata": {},
   "outputs": [
    {
     "name": "stderr",
     "output_type": "stream",
     "text": [
      "C:\\Users\\alber\\Anaconda3\\lib\\site-packages\\gensim\\matutils.py:737: FutureWarning: Conversion of the second argument of issubdtype from `int` to `np.signedinteger` is deprecated. In future, it will be treated as `np.int32 == np.dtype(int).type`.\n",
      "  if np.issubdtype(vec.dtype, np.int):\n"
     ]
    },
    {
     "data": {
      "text/plain": [
       "[('minnesota', 0.576392412185669),\n",
       " ('alabama', 0.5629942417144775),\n",
       " ('michigan', 0.5611923933029175),\n",
       " ('illinois', 0.5545936822891235),\n",
       " ('virginia', 0.5493667125701904),\n",
       " ('utah', 0.5438264012336731),\n",
       " ('georgia', 0.5382406115531921),\n",
       " ('indiana', 0.5366226434707642),\n",
       " ('massachusetts', 0.5328266620635986),\n",
       " ('colorado', 0.5229722261428833)]"
      ]
     },
     "execution_count": 34,
     "metadata": {},
     "output_type": "execute_result"
    }
   ],
   "source": [
    "model_3.wv.most_similar(positive=[\"ohio\",\"chicago\"], negative=[\"columbus\"])"
   ]
  },
  {
   "cell_type": "code",
   "execution_count": null,
   "metadata": {},
   "outputs": [],
   "source": []
  }
 ],
 "metadata": {
  "kernelspec": {
   "display_name": "Python 3",
   "language": "python",
   "name": "python3"
  },
  "language_info": {
   "codemirror_mode": {
    "name": "ipython",
    "version": 3
   },
   "file_extension": ".py",
   "mimetype": "text/x-python",
   "name": "python",
   "nbconvert_exporter": "python",
   "pygments_lexer": "ipython3",
   "version": "3.6.5"
  }
 },
 "nbformat": 4,
 "nbformat_minor": 2
}
